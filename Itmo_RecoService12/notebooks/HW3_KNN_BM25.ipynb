{
 "cells": [
  {
   "cell_type": "markdown",
   "id": "511f0092",
   "metadata": {},
   "source": [
    "## Домашнее задание `максимум 25 баллов (бывшее 10)`\n",
    "\n",
    "## Критерии оценки \n",
    "`❗️Оцениваться будет значение метрики + ревью кода + реализация сервиса.` \n",
    "\n",
    "Вы можете сделать НЕ ВСЕ пункты и все равно получить 25 баллов. Получение > 25 баллов будет расцениваться как 25.\n",
    "\n",
    "\n",
    "### 1. Побейте метрику на лидерборде `map@10 = 0.063` для userKnn модели с семинара (`4 балла`)\n",
    "\n",
    "\n",
    "### 2. Предоставьте ноутбук(и) с экспериментами (`16 баллов`)\n",
    "\n",
    "Что можно сделать:\n",
    "   - сделать кол-во рекомендаций не меньше N (`2 балла`)\n",
    "   - наличие тюнинга гиперпараметров (например, векторного расстояния или типов kNN моделей (implicit/rectools/...)) (`4 балла`)\n",
    "   - другие варианты ранжированивания айтемов похожих пользователей (`2 балла`)\n",
    "   - эксперименты с оффлайн валидацией (`2 балла`)\n",
    "   - в тесте вас ждут холодные пользователи. Сделайте рекомендации для них (обратите внимание на <a href=\"https://rectools.readthedocs.io/en/latest/api/rectools.models.popular.html\"> rectools.models.popular</a>) (`2 балла`)\n",
    "   - блендинг моделей (`4 балла`)\n",
    "\n",
    "\n",
    "### 3. Оберните модель в сервис.\n",
    "- **предпочтительный онлайн вариант**: обучаете модель в ноутбуке, сохраняете обученную модель (pickle, dill), при запуске сервиса ее поднимаете и запрашиваете рекомендации \"на лету\" (`9 баллов`)\n",
    "- или оффлайн вариант: предварительно посчитайте рекомендации для всех пользователей, сохраните и запрашивайте их (`4 балла`)\n",
    "   \n",
    "\n",
    "### Хороший код ДЗ это:\n",
    "- комментарии и объяснения. В ipynb пользуйтесь силой маркдауна. \n",
    "В скриптах пишите комментарии и докстринг. \n",
    "- легкая читаемость и воспроизводимость\n",
    "- стандарт PEP8 \n",
    "- обоснование схемы валидации\n",
    "- анализ метрики качества "
   ]
  },
  {
   "cell_type": "markdown",
   "id": "6dd2a9ed",
   "metadata": {},
   "source": [
    "## Imports"
   ]
  },
  {
   "cell_type": "code",
   "execution_count": null,
   "id": "12006e27",
   "metadata": {
    "ExecuteTime": {
     "start_time": "2022-12-11T15:22:58.454Z"
    }
   },
   "outputs": [],
   "source": [
    "from pathlib import Path\n",
    "from collections import Counter\n",
    "import optuna\n",
    "from rectools.models import ImplicitALSWrapperModel, LightFMWrapperModel, PopularModel\n",
    "from implicit.nearest_neighbours import CosineRecommender, BM25Recommender, TFIDFRecommender\n",
    "from rectools.models.implicit_knn import ImplicitItemKNNWrapperModel\n",
    "from rectools.dataset import Dataset\n",
    "from rectools import Columns\n",
    "from rectools.metrics import Precision, Recall, MAP, calc_metrics, MeanInvUserFreq, Serendipity\n",
    "from rectools.model_selection import TimeRangeSplitter\n",
    "\n",
    "import dill\n",
    "import json\n",
    "from pprint import pprint\n",
    "import numpy as np\n",
    "import scipy as sp\n",
    "import time\n",
    "import pandas as pd\n",
    "import warnings\n",
    "\n",
    "warnings.filterwarnings('ignore')"
   ]
  },
  {
   "cell_type": "markdown",
   "id": "8a5c6f7b",
   "metadata": {},
   "source": [
    "## Подинимаем данные"
   ]
  },
  {
   "cell_type": "code",
   "execution_count": null,
   "id": "57a9490b",
   "metadata": {
    "ExecuteTime": {
     "start_time": "2022-12-11T15:22:58.457Z"
    }
   },
   "outputs": [],
   "source": [
    "DATA_PATH = Path(\"data_original\")"
   ]
  },
  {
   "cell_type": "code",
   "execution_count": null,
   "id": "0eae4b0a",
   "metadata": {
    "ExecuteTime": {
     "start_time": "2022-12-11T15:22:58.460Z"
    }
   },
   "outputs": [],
   "source": [
    "users = pd.read_csv(DATA_PATH / 'users.csv')\n",
    "items = pd.read_csv(DATA_PATH / 'items.csv')\n",
    "interactions = pd.read_csv(DATA_PATH / 'interactions.csv')"
   ]
  },
  {
   "cell_type": "code",
   "execution_count": null,
   "id": "ae254ceb",
   "metadata": {
    "ExecuteTime": {
     "start_time": "2022-12-11T15:22:58.463Z"
    }
   },
   "outputs": [],
   "source": [
    "# rename columns, convert timestamp\n",
    "interactions.rename(columns={'last_watch_dt': Columns.Datetime,\n",
    "                            'total_dur': Columns.Weight}, \n",
    "                    inplace=True) \n",
    "\n",
    "interactions['datetime'] = pd.to_datetime(interactions['datetime'])"
   ]
  },
  {
   "cell_type": "code",
   "execution_count": null,
   "id": "3f0fda6b",
   "metadata": {
    "ExecuteTime": {
     "start_time": "2022-12-11T15:22:58.466Z"
    }
   },
   "outputs": [],
   "source": [
    "interactions.head()"
   ]
  },
  {
   "cell_type": "code",
   "execution_count": null,
   "id": "197720a0",
   "metadata": {
    "ExecuteTime": {
     "start_time": "2022-12-11T15:22:58.468Z"
    }
   },
   "outputs": [],
   "source": [
    "print(f\"Interactions dataframe shape: {interactions.shape}\")\n",
    "print(f\"Unique users in interactions: {interactions['user_id'].nunique():_}\")\n",
    "print(f\"Unique items in interactions: {interactions['item_id'].nunique():_}\")"
   ]
  },
  {
   "cell_type": "code",
   "execution_count": null,
   "id": "853b90e6",
   "metadata": {
    "ExecuteTime": {
     "start_time": "2022-12-11T15:22:58.483Z"
    },
    "scrolled": true
   },
   "outputs": [],
   "source": [
    "max_date = interactions['datetime'].max()\n",
    "min_date = interactions['datetime'].min()\n",
    "\n",
    "print(f\"min date in interactions: {min_date}\")\n",
    "print(f\"max date in interactions: {max_date}\")"
   ]
  },
  {
   "cell_type": "markdown",
   "id": "5f729773",
   "metadata": {
    "ExecuteTime": {
     "end_time": "2022-12-04T05:36:19.324701Z",
     "start_time": "2022-12-04T05:35:41.782371Z"
    }
   },
   "source": [
    "## Разбиваем на train/test"
   ]
  },
  {
   "cell_type": "code",
   "execution_count": null,
   "id": "1b0bd8ca",
   "metadata": {
    "ExecuteTime": {
     "start_time": "2022-12-11T15:22:58.485Z"
    }
   },
   "outputs": [],
   "source": [
    "dataset = Dataset.construct(\n",
    "    interactions_df=interactions,\n",
    "    user_features_df=None,\n",
    "    item_features_df=None\n",
    ")"
   ]
  },
  {
   "cell_type": "code",
   "execution_count": null,
   "id": "5a865e63",
   "metadata": {
    "ExecuteTime": {
     "start_time": "2022-12-11T15:22:58.488Z"
    }
   },
   "outputs": [],
   "source": [
    "n_folds = 1\n",
    "unit = \"W\"\n",
    "n_units = 1\n",
    "periods = n_folds + 1\n",
    "freq = f\"{n_units}{unit}\"\n",
    "\n",
    "last_date = interactions[Columns.Datetime].max().normalize()\n",
    "start_date = last_date - pd.Timedelta(n_folds * n_units + 1, unit=unit)  \n",
    "print(f\"Start date and last date of the test fold: {start_date, last_date}\")\n",
    "    \n",
    "date_range = pd.date_range(start=start_date, periods=periods, freq=freq, tz=last_date.tz)\n",
    "print(f\"Test fold borders: {date_range.values.astype('datetime64[D]')}\")\n",
    "\n",
    "# generator of folds\n",
    "cv = TimeRangeSplitter(\n",
    "    date_range=date_range,\n",
    "    filter_already_seen=True,\n",
    "    filter_cold_items=True,\n",
    "    filter_cold_users=True,\n",
    ")\n",
    "print(f\"Real number of folds: {cv.get_n_splits(dataset.interactions)}\")\n"
   ]
  },
  {
   "cell_type": "code",
   "execution_count": null,
   "id": "c232c59a",
   "metadata": {
    "ExecuteTime": {
     "start_time": "2022-12-11T15:22:58.491Z"
    }
   },
   "outputs": [],
   "source": [
    "# we have just 1 test fold - no need to iterate over fold\n",
    "(train_ids, test_ids, fold_info) = cv.split(dataset.interactions, collect_fold_stats=True).__next__()"
   ]
  },
  {
   "cell_type": "code",
   "execution_count": null,
   "id": "2255daf3",
   "metadata": {
    "ExecuteTime": {
     "start_time": "2022-12-11T15:22:58.493Z"
    }
   },
   "outputs": [],
   "source": [
    "train_ids"
   ]
  },
  {
   "cell_type": "code",
   "execution_count": null,
   "id": "fcccf0ed",
   "metadata": {
    "ExecuteTime": {
     "start_time": "2022-12-11T15:22:58.508Z"
    }
   },
   "outputs": [],
   "source": [
    "train = interactions.loc[train_ids]\n",
    "test = interactions.loc[test_ids]"
   ]
  },
  {
   "cell_type": "markdown",
   "id": "ee992e37",
   "metadata": {},
   "source": [
    "## Сравнение с ItemKnn"
   ]
  },
  {
   "cell_type": "code",
   "execution_count": null,
   "id": "a1a0e35f",
   "metadata": {
    "ExecuteTime": {
     "start_time": "2022-12-11T15:22:58.510Z"
    }
   },
   "outputs": [],
   "source": [
    "item_knn = ImplicitItemKNNWrapperModel(model=CosineRecommender(K=30))\n",
    "item_knn.fit(dataset);"
   ]
  },
  {
   "cell_type": "code",
   "execution_count": null,
   "id": "a4f8e275",
   "metadata": {
    "ExecuteTime": {
     "start_time": "2022-12-11T15:22:58.513Z"
    }
   },
   "outputs": [],
   "source": [
    "# take a look at the recommended items by the simple itemknn model\n",
    "recs_itemknn = item_knn.recommend(\n",
    "    test['user_id'].unique(), \n",
    "    dataset=dataset, \n",
    "    k=10, \n",
    "    filter_viewed=False  # False - same items to every user\n",
    ")"
   ]
  },
  {
   "cell_type": "code",
   "execution_count": null,
   "id": "71f28128",
   "metadata": {
    "ExecuteTime": {
     "start_time": "2022-12-11T15:22:58.516Z"
    }
   },
   "outputs": [],
   "source": [
    "recs_itemknn.head()"
   ]
  },
  {
   "cell_type": "code",
   "execution_count": null,
   "id": "3c7e8e48",
   "metadata": {
    "ExecuteTime": {
     "start_time": "2022-12-11T15:22:58.518Z"
    }
   },
   "outputs": [],
   "source": [
    "metric_values_itemknn = calc_metrics(\n",
    "            metrics,\n",
    "            reco=recs_itemknn,\n",
    "            interactions=test,\n",
    "            prev_interactions=train,\n",
    "            catalog=catalog\n",
    "        )"
   ]
  },
  {
   "cell_type": "code",
   "execution_count": null,
   "id": "1ae90e07",
   "metadata": {
    "ExecuteTime": {
     "start_time": "2022-12-11T15:22:58.520Z"
    }
   },
   "outputs": [],
   "source": [
    "metric_values_itemknn"
   ]
  },
  {
   "cell_type": "markdown",
   "id": "071074b7",
   "metadata": {},
   "source": [
    "## Обучение userKnn с различными мерами расстояния"
   ]
  },
  {
   "cell_type": "markdown",
   "id": "36584003",
   "metadata": {},
   "source": [
    "### Подготовка данных"
   ]
  },
  {
   "cell_type": "code",
   "execution_count": null,
   "id": "c5f5f5d0",
   "metadata": {
    "ExecuteTime": {
     "end_time": "2022-12-08T14:47:47.860567Z",
     "start_time": "2022-12-08T14:47:47.289634Z"
    },
    "scrolled": true
   },
   "outputs": [],
   "source": [
    "Columns.Datetime = 'last_watch_dt'\n",
    "interactions.drop(interactions[interactions[Columns.Datetime].str.len() != 10].index, inplace=True)\n",
    "interactions[Columns.Datetime] = pd.to_datetime(interactions[Columns.Datetime], format='%Y-%m-%d')"
   ]
  },
  {
   "cell_type": "code",
   "execution_count": null,
   "id": "f6bf258c",
   "metadata": {
    "ExecuteTime": {
     "end_time": "2022-12-08T05:51:31.888099Z",
     "start_time": "2022-12-08T05:51:31.888084Z"
    }
   },
   "outputs": [],
   "source": [
    "max_date = interactions[Columns.Datetime].max()"
   ]
  },
  {
   "cell_type": "code",
   "execution_count": null,
   "id": "53f9f0c3",
   "metadata": {
    "ExecuteTime": {
     "end_time": "2022-12-08T05:51:31.889238Z",
     "start_time": "2022-12-08T05:51:31.889224Z"
    }
   },
   "outputs": [],
   "source": [
    "interactions[Columns.Weight] = np.where(interactions['watched_pct'] > 10, 3, 1)"
   ]
  },
  {
   "cell_type": "code",
   "execution_count": null,
   "id": "605c40b4",
   "metadata": {
    "ExecuteTime": {
     "end_time": "2022-12-08T14:47:43.429796Z",
     "start_time": "2022-12-08T14:47:43.395077Z"
    }
   },
   "outputs": [],
   "source": [
    "train = interactions[interactions[Columns.Datetime] < max_date - pd.Timedelta(days=7)].copy()\n",
    "test = interactions[interactions[Columns.Datetime] >= max_date - pd.Timedelta(days=7)].copy()\n",
    "\n",
    "print(f\"train: {train.shape}\")\n",
    "print(f\"test: {test.shape}\")"
   ]
  },
  {
   "cell_type": "code",
   "execution_count": null,
   "id": "593e97b1",
   "metadata": {
    "ExecuteTime": {
     "end_time": "2022-12-08T05:51:31.891545Z",
     "start_time": "2022-12-08T05:51:31.891531Z"
    }
   },
   "outputs": [],
   "source": [
    "train.drop(train.query(\"total_dur < 300\").index, inplace=True)"
   ]
  },
  {
   "cell_type": "code",
   "execution_count": null,
   "id": "44a67265",
   "metadata": {
    "ExecuteTime": {
     "end_time": "2022-12-08T05:51:31.892855Z",
     "start_time": "2022-12-08T05:51:31.892840Z"
    }
   },
   "outputs": [],
   "source": [
    "# отфильтруем холодных пользователей из теста\n",
    "cold_users = set(test[Columns.User]) - set(train[Columns.User])"
   ]
  },
  {
   "cell_type": "code",
   "execution_count": null,
   "id": "59f0127d",
   "metadata": {
    "ExecuteTime": {
     "end_time": "2022-12-08T05:51:31.894041Z",
     "start_time": "2022-12-08T05:51:31.894027Z"
    }
   },
   "outputs": [],
   "source": [
    "test.drop(test[test[Columns.User].isin(cold_users)].index, inplace=True)"
   ]
  },
  {
   "cell_type": "markdown",
   "id": "f9321912",
   "metadata": {},
   "source": [
    "### Подготовка фичей"
   ]
  },
  {
   "cell_type": "markdown",
   "id": "c47b24c6",
   "metadata": {},
   "source": [
    "#### Пользовательские фичи"
   ]
  },
  {
   "cell_type": "code",
   "execution_count": null,
   "id": "91cf39a7",
   "metadata": {
    "ExecuteTime": {
     "end_time": "2022-12-09T15:49:09.547106Z",
     "start_time": "2022-12-09T15:49:09.284638Z"
    }
   },
   "outputs": [],
   "source": [
    "# % не большой => можно заменить пустые значения\n",
    "users.fillna('Unknown', inplace=True)"
   ]
  },
  {
   "cell_type": "code",
   "execution_count": null,
   "id": "5a570f19",
   "metadata": {
    "ExecuteTime": {
     "end_time": "2022-12-09T15:49:11.145635Z",
     "start_time": "2022-12-09T15:49:10.956755Z"
    }
   },
   "outputs": [],
   "source": [
    "# оставляем у df users только тех, кто попал в train\n",
    "users = users.loc[users[Columns.User].isin(train[Columns.User])].copy()"
   ]
  },
  {
   "cell_type": "code",
   "execution_count": null,
   "id": "8df323b8",
   "metadata": {
    "ExecuteTime": {
     "end_time": "2022-12-08T14:50:36.009978Z",
     "start_time": "2022-12-08T14:50:35.984882Z"
    }
   },
   "outputs": [],
   "source": [
    "users"
   ]
  },
  {
   "cell_type": "code",
   "execution_count": null,
   "id": "cedc5ba1",
   "metadata": {
    "ExecuteTime": {
     "end_time": "2022-12-09T15:49:12.985404Z",
     "start_time": "2022-12-09T15:49:12.912908Z"
    }
   },
   "outputs": [],
   "source": [
    "user_features_frames = []\n",
    "for feature in [\"sex\", \"age\", \"income\"]:\n",
    "    feature_frame = users.reindex(columns=[Columns.User, feature])\n",
    "    feature_frame.columns = [\"id\", \"value\"]\n",
    "    feature_frame[\"feature\"] = feature\n",
    "    user_features_frames.append(feature_frame)\n",
    "user_features = pd.concat(user_features_frames)\n",
    "user_features.head()"
   ]
  },
  {
   "cell_type": "markdown",
   "id": "94f61301",
   "metadata": {},
   "source": [
    "#### Фичи фильмов"
   ]
  },
  {
   "cell_type": "code",
   "execution_count": null,
   "id": "91bff1f1",
   "metadata": {
    "ExecuteTime": {
     "end_time": "2022-12-09T15:49:14.932840Z",
     "start_time": "2022-12-09T15:49:14.855775Z"
    }
   },
   "outputs": [],
   "source": [
    "# оставляем у df users только тех, кто попал в train\n",
    "items = items.loc[items[Columns.Item].isin(train[Columns.Item])].copy()"
   ]
  },
  {
   "cell_type": "markdown",
   "id": "5f865f31",
   "metadata": {},
   "source": [
    "#### Жанр"
   ]
  },
  {
   "cell_type": "code",
   "execution_count": null,
   "id": "aedb8ea7",
   "metadata": {
    "ExecuteTime": {
     "end_time": "2022-12-09T15:49:16.618976Z",
     "start_time": "2022-12-09T15:49:16.554046Z"
    }
   },
   "outputs": [],
   "source": [
    "items[\"genre\"] = items[\"genres\"].str.lower().str.replace(\", \", \",\", regex=False).str.split(\",\")\n",
    "genre_feature = items[[\"item_id\", \"genre\"]].explode(\"genre\")\n",
    "genre_feature.columns = [\"id\", \"value\"]\n",
    "genre_feature[\"feature\"] = \"genre\"\n",
    "genre_feature.head()"
   ]
  },
  {
   "cell_type": "markdown",
   "id": "530f42b0",
   "metadata": {},
   "source": [
    "#### Содержание"
   ]
  },
  {
   "cell_type": "code",
   "execution_count": null,
   "id": "f6ea13ac",
   "metadata": {
    "ExecuteTime": {
     "end_time": "2022-12-09T15:49:18.152351Z",
     "start_time": "2022-12-09T15:49:18.130549Z"
    }
   },
   "outputs": [],
   "source": [
    "content_feature = items.reindex(columns=[Columns.Item, \"content_type\"])\n",
    "content_feature.columns = [\"id\", \"value\"]\n",
    "content_feature[\"feature\"] = \"content_type\"\n",
    "content_feature.head()"
   ]
  },
  {
   "cell_type": "markdown",
   "id": "c3788ccd",
   "metadata": {
    "ExecuteTime": {
     "end_time": "2022-12-05T16:27:46.987274Z",
     "start_time": "2022-12-05T16:27:46.979901Z"
    }
   },
   "source": [
    "#### Режисер"
   ]
  },
  {
   "cell_type": "code",
   "execution_count": null,
   "id": "4668f825",
   "metadata": {
    "ExecuteTime": {
     "end_time": "2022-12-09T15:49:19.928848Z",
     "start_time": "2022-12-09T15:49:19.875053Z"
    }
   },
   "outputs": [],
   "source": [
    "items[\"director\"] = items[\"directors\"].str.lower().str.replace(\", \", \",\", regex=False).str.split(\",\")\n",
    "director_feature = items[[\"item_id\", \"director\"]].explode(\"director\")\n",
    "director_feature.columns = [\"id\", \"value\"]\n",
    "director_feature[\"feature\"] = \"director\"\n",
    "director_feature.head()"
   ]
  },
  {
   "cell_type": "markdown",
   "id": "0a08ef43",
   "metadata": {
    "ExecuteTime": {
     "end_time": "2022-12-05T16:28:05.825637Z",
     "start_time": "2022-12-05T16:28:05.818590Z"
    }
   },
   "source": [
    "#### Страна"
   ]
  },
  {
   "cell_type": "code",
   "execution_count": null,
   "id": "57dab0a9",
   "metadata": {
    "ExecuteTime": {
     "end_time": "2022-12-09T15:49:21.973271Z",
     "start_time": "2022-12-09T15:49:21.928705Z"
    }
   },
   "outputs": [],
   "source": [
    "items[\"country\"] = items[\"countries\"].str.lower().str.replace(\", \", \",\", regex=False).str.split(\",\")\n",
    "country_feature = items[[\"item_id\", \"country\"]].explode(\"country\")\n",
    "country_feature.columns = [\"id\", \"value\"]\n",
    "country_feature[\"feature\"] = \"country\"\n",
    "country_feature.head()"
   ]
  },
  {
   "cell_type": "markdown",
   "id": "4caee2f8",
   "metadata": {},
   "source": [
    "#### Год Выпуска"
   ]
  },
  {
   "cell_type": "code",
   "execution_count": null,
   "id": "74e428aa",
   "metadata": {
    "ExecuteTime": {
     "end_time": "2022-12-09T15:49:23.682019Z",
     "start_time": "2022-12-09T15:49:23.657424Z"
    }
   },
   "outputs": [],
   "source": [
    "year_feature = items.reindex(columns=[Columns.Item, \"release_year\"])\n",
    "year_feature.columns = [\"id\", \"value\"]\n",
    "year_feature[\"feature\"] = \"release_year\"\n",
    "year_feature.head()"
   ]
  },
  {
   "cell_type": "code",
   "execution_count": null,
   "id": "c80f6157",
   "metadata": {
    "ExecuteTime": {
     "end_time": "2022-12-09T15:49:25.300508Z",
     "start_time": "2022-12-09T15:49:25.275606Z"
    }
   },
   "outputs": [],
   "source": [
    "# Объединяем фичи\n",
    "item_features = pd.concat((genre_feature, content_feature, country_feature, year_feature, director_feature))\n",
    "item_features"
   ]
  },
  {
   "cell_type": "code",
   "execution_count": null,
   "id": "7fc47422",
   "metadata": {
    "ExecuteTime": {
     "end_time": "2022-12-09T15:49:27.423362Z",
     "start_time": "2022-12-09T15:49:27.407214Z"
    },
    "scrolled": true
   },
   "outputs": [],
   "source": [
    "metrics_name = {\n",
    "    'Precision': Precision,\n",
    "    'Recall': Recall,\n",
    "    'MAP': MAP,\n",
    "}\n",
    "\n",
    "metrics = {}\n",
    "for metric_name, metric in metrics_name.items():\n",
    "    for k in range(1, 11):\n",
    "        metrics[f'{metric_name}@{k}'] = metric(k=k)\n",
    "\n",
    "\n",
    "pprint(metrics)"
   ]
  },
  {
   "cell_type": "markdown",
   "id": "3feec6bb",
   "metadata": {},
   "source": [
    "### Обучение"
   ]
  },
  {
   "cell_type": "code",
   "execution_count": null,
   "id": "c9bd7304",
   "metadata": {
    "ExecuteTime": {
     "end_time": "2022-12-09T15:49:31.656638Z",
     "start_time": "2022-12-09T15:49:29.969385Z"
    }
   },
   "outputs": [],
   "source": [
    "dataset = Dataset.construct(\n",
    "    interactions_df=train,\n",
    "    user_features_df=user_features,\n",
    "    cat_user_features=[\"sex\", \"age\", \"income\"],\n",
    "    item_features_df=item_features,\n",
    "    cat_item_features=[\"genre\", \"content_type\", \"director\", \"country\", \"release_year\"],\n",
    ")\n",
    "TEST_USERS = test[Columns.User].unique()"
   ]
  },
  {
   "cell_type": "code",
   "execution_count": null,
   "id": "0e0a67eb",
   "metadata": {
    "ExecuteTime": {
     "end_time": "2022-12-09T15:49:44.290806Z",
     "start_time": "2022-12-09T15:49:44.276878Z"
    }
   },
   "outputs": [],
   "source": [
    "dataset.interactions.df"
   ]
  },
  {
   "cell_type": "code",
   "execution_count": null,
   "id": "1a95e833",
   "metadata": {
    "ExecuteTime": {
     "end_time": "2022-12-08T14:53:30.459336Z",
     "start_time": "2022-12-08T14:53:23.342788Z"
    }
   },
   "outputs": [],
   "source": [
    "K_RECOS = 10\n",
    "\n",
    "# model = ImplicitItemKNNWrapperModel(model=BM25Recommender(K=100, K1=0.05, B=0.1, num_threads=2))\n",
    "# model.fit(dataset)\n",
    "recos = model.recommend(\n",
    "    users=TEST_USERS,\n",
    "    dataset=dataset,\n",
    "    k=K_RECOS,\n",
    "    filter_viewed=True,\n",
    ")\n"
   ]
  },
  {
   "cell_type": "code",
   "execution_count": null,
   "id": "74ed6a59",
   "metadata": {
    "ExecuteTime": {
     "end_time": "2022-12-08T14:52:01.867609Z",
     "start_time": "2022-12-08T14:52:01.598614Z"
    }
   },
   "outputs": [],
   "source": [
    "model.predict(\n",
    "    users=[123],\n",
    "    dataset=dataset,\n",
    "    k=K_RECOS,\n",
    "    filter_viewed=True,\n",
    ")"
   ]
  },
  {
   "cell_type": "code",
   "execution_count": null,
   "id": "934c0e5e",
   "metadata": {
    "ExecuteTime": {
     "end_time": "2022-12-08T14:53:37.224698Z",
     "start_time": "2022-12-08T14:53:36.357142Z"
    }
   },
   "outputs": [],
   "source": [
    "results = []\n",
    "model_quality = {'model': 'BM25Recommender'}\n",
    "metric_values = calc_metrics(metrics, recos, test, train)\n",
    "model_quality.update(metric_values)\n",
    "results.append(model_quality)\n",
    "\n",
    "df_quality = pd.DataFrame(results).T\n",
    "\n",
    "df_quality.columns = df_quality.iloc[0]\n",
    "\n",
    "df_quality.drop('model', inplace=True)"
   ]
  },
  {
   "cell_type": "code",
   "execution_count": null,
   "id": "ee66e138",
   "metadata": {
    "ExecuteTime": {
     "end_time": "2022-12-08T14:53:39.033819Z",
     "start_time": "2022-12-08T14:53:38.380874Z"
    },
    "scrolled": true
   },
   "outputs": [],
   "source": [
    "df_quality.style.highlight_max(color='lightgreen', axis=1)"
   ]
  },
  {
   "cell_type": "code",
   "execution_count": null,
   "id": "7a69a07d",
   "metadata": {
    "ExecuteTime": {
     "end_time": "2022-12-08T14:54:24.846156Z",
     "start_time": "2022-12-08T14:54:24.718862Z"
    }
   },
   "outputs": [],
   "source": [
    "dill_file = Path().cwd().parent / 'service' / 'models'\n",
    "\n",
    "with open(dill_file / 'BM25Recommender_0.095432.dill', 'wb') as f:\n",
    "    dill.dump(model, f)"
   ]
  },
  {
   "cell_type": "code",
   "execution_count": null,
   "id": "a887e87e",
   "metadata": {
    "ExecuteTime": {
     "end_time": "2022-12-08T14:54:54.746402Z",
     "start_time": "2022-12-08T14:54:53.301707Z"
    }
   },
   "outputs": [],
   "source": [
    "dill_file = Path().cwd().parent / 'service' / 'data'\n",
    "\n",
    "with open(dill_file / 'dataset_BM25Recommender_0.095432.dill', 'wb') as f:\n",
    "    dill.dump(dataset, f)"
   ]
  },
  {
   "cell_type": "markdown",
   "id": "30e1a1ac",
   "metadata": {},
   "source": [
    "### Подбор гиперпараметров"
   ]
  },
  {
   "cell_type": "code",
   "execution_count": null,
   "id": "5ffda98e",
   "metadata": {
    "ExecuteTime": {
     "end_time": "2022-12-08T05:51:31.920259Z",
     "start_time": "2022-12-08T05:51:31.920245Z"
    }
   },
   "outputs": [],
   "source": [
    "dataset = Dataset.construct(\n",
    "    interactions_df=train,\n",
    "    user_features_df=user_features,\n",
    "    cat_user_features=[\"sex\", \"age\", \"income\"],\n",
    "    item_features_df=item_features,\n",
    "    cat_item_features=[\"genre\", \"content_type\", \"director\", \"country\", \"release_year\"],\n",
    ")\n",
    "TEST_USERS = test[Columns.User].unique()\n",
    "\n",
    "results_opto = []\n",
    "\n",
    "def objective(trial):\n",
    "    # общие параметры\n",
    "    K_RECOS = 10\n",
    "    RANDOM_STATE = 42\n",
    "\n",
    "    reco_model = trial.suggest_categorical(\"reco_model\", [\"BM25Recommender\", \n",
    "                                                          \"CosineRecommender\",\n",
    "                                                          \"TFIDFRecommender\"])\n",
    "    model_quality_opto = {\"model\": f\"{reco_model}_{trial.number}\"}\n",
    "\n",
    "    if reco_model == \"BM25Recommender\":\n",
    "        # гиперпараметры для BM25Recommender\n",
    "        K = trial.suggest_int(\"K\", 100, 500, 50, log=False)\n",
    "        K1 = trial.suggest_float(\"K1\", 0.01, 0.09, log=False)\n",
    "        B = trial.suggest_float(\"B\", 0.01, 0.5, log=False)\n",
    "        # Инициализация BM25Recommender\n",
    "        model = ImplicitItemKNNWrapperModel(model=BM25Recommender(K=K, K1=K1, B=B, num_threads=2))\n",
    "        \n",
    "    elif reco_model == \"CosineRecommender\":\n",
    "        # гиперпараметры для CosineRecommender\n",
    "        K = trial.suggest_int(\"K\", 50, 200, 50, log=False)\n",
    "        # Инициализация CosineRecommender\n",
    "        model = ImplicitItemKNNWrapperModel(model=CosineRecommender(K=K))\n",
    "        \n",
    "    elif reco_model == \"TFIDFRecommender\":\n",
    "        # гиперпараметры для TFIDFRecommender\n",
    "        K = trial.suggest_int(\"K\", 10, 100, 20, log=False)\n",
    "        # Инициализация TFIDFRecommender\n",
    "        model = ImplicitItemKNNWrapperModel(model=TFIDFRecommender(K=K))\n",
    "        \n",
    "    # обучение модели\n",
    "    model.fit(dataset)\n",
    "    recos = model.recommend(\n",
    "        users=TEST_USERS,\n",
    "        dataset=dataset,\n",
    "        k=K_RECOS,\n",
    "        filter_viewed=True,\n",
    "    )\n",
    "\n",
    "    # Подсчет метрик\n",
    "    metric_values = calc_metrics(metrics, recos, test, train)\n",
    "    model_quality_opto.update(metric_values)\n",
    "    results_opto.append(model_quality_opto)\n",
    "\n",
    "    return metric_values.get('MAP@10') # максимизируемая метрика"
   ]
  },
  {
   "cell_type": "code",
   "execution_count": null,
   "id": "5a40b4a9",
   "metadata": {
    "ExecuteTime": {
     "end_time": "2022-12-08T05:51:31.921539Z",
     "start_time": "2022-12-08T05:51:31.921513Z"
    },
    "scrolled": true
   },
   "outputs": [],
   "source": [
    "# запуск подбора гиперпараметров\n",
    "study = optuna.create_study(direction=\"maximize\")\n",
    "study.optimize(objective, n_trials=100)\n",
    "\n",
    "pprint(f\"Number of finished trials: {len(study.trials)}\")\n",
    "trial = study.best_trial\n",
    "pprint(f\"Best trial: {trial}\")"
   ]
  },
  {
   "cell_type": "code",
   "execution_count": null,
   "id": "111bf3e6",
   "metadata": {
    "ExecuteTime": {
     "end_time": "2022-12-08T05:51:31.922678Z",
     "start_time": "2022-12-08T05:51:31.922664Z"
    }
   },
   "outputs": [],
   "source": [
    "df_quality = pd.DataFrame(results_opto).T\n",
    "\n",
    "df_quality.columns = df_quality.iloc[0]\n",
    "\n",
    "df_quality.drop('model', inplace=True)"
   ]
  },
  {
   "cell_type": "code",
   "execution_count": null,
   "id": "58fb9822",
   "metadata": {
    "ExecuteTime": {
     "end_time": "2022-12-08T05:51:31.923838Z",
     "start_time": "2022-12-08T05:51:31.923824Z"
    }
   },
   "outputs": [],
   "source": [
    "df_quality = df_quality.T.drop_duplicates().T"
   ]
  },
  {
   "cell_type": "code",
   "execution_count": null,
   "id": "362163b1",
   "metadata": {
    "ExecuteTime": {
     "end_time": "2022-12-08T05:51:31.925328Z",
     "start_time": "2022-12-08T05:51:31.925301Z"
    },
    "scrolled": true
   },
   "outputs": [],
   "source": [
    "df_quality.style.highlight_max(color='lightgreen', axis=1)"
   ]
  },
  {
   "cell_type": "markdown",
   "id": "8a011561",
   "metadata": {},
   "source": [
    "## Обучение модели с лучшими параметрами"
   ]
  },
  {
   "cell_type": "markdown",
   "id": "a2cc2836",
   "metadata": {},
   "source": [
    "### подготавливаем матрицы"
   ]
  },
  {
   "cell_type": "markdown",
   "id": "cd1eda0e",
   "metadata": {},
   "source": [
    "### Создаем маппинг для users и items"
   ]
  },
  {
   "cell_type": "code",
   "execution_count": 15,
   "id": "96b28032",
   "metadata": {
    "ExecuteTime": {
     "end_time": "2022-12-11T12:09:33.105354Z",
     "start_time": "2022-12-11T12:09:33.094394Z"
    }
   },
   "outputs": [
    {
     "data": {
      "text/html": [
       "<div>\n",
       "<style scoped>\n",
       "    .dataframe tbody tr th:only-of-type {\n",
       "        vertical-align: middle;\n",
       "    }\n",
       "\n",
       "    .dataframe tbody tr th {\n",
       "        vertical-align: top;\n",
       "    }\n",
       "\n",
       "    .dataframe thead th {\n",
       "        text-align: right;\n",
       "    }\n",
       "</style>\n",
       "<table border=\"1\" class=\"dataframe\">\n",
       "  <thead>\n",
       "    <tr style=\"text-align: right;\">\n",
       "      <th></th>\n",
       "      <th>user_id</th>\n",
       "      <th>item_id</th>\n",
       "      <th>weight</th>\n",
       "      <th>datetime</th>\n",
       "    </tr>\n",
       "  </thead>\n",
       "  <tbody>\n",
       "    <tr>\n",
       "      <th>0</th>\n",
       "      <td>0</td>\n",
       "      <td>0</td>\n",
       "      <td>4250.0</td>\n",
       "      <td>2021-05-11</td>\n",
       "    </tr>\n",
       "    <tr>\n",
       "      <th>1</th>\n",
       "      <td>1</td>\n",
       "      <td>1</td>\n",
       "      <td>8317.0</td>\n",
       "      <td>2021-05-29</td>\n",
       "    </tr>\n",
       "    <tr>\n",
       "      <th>2</th>\n",
       "      <td>2</td>\n",
       "      <td>2</td>\n",
       "      <td>10.0</td>\n",
       "      <td>2021-05-09</td>\n",
       "    </tr>\n",
       "    <tr>\n",
       "      <th>3</th>\n",
       "      <td>3</td>\n",
       "      <td>3</td>\n",
       "      <td>14483.0</td>\n",
       "      <td>2021-07-05</td>\n",
       "    </tr>\n",
       "    <tr>\n",
       "      <th>4</th>\n",
       "      <td>4</td>\n",
       "      <td>0</td>\n",
       "      <td>6725.0</td>\n",
       "      <td>2021-04-30</td>\n",
       "    </tr>\n",
       "    <tr>\n",
       "      <th>...</th>\n",
       "      <td>...</td>\n",
       "      <td>...</td>\n",
       "      <td>...</td>\n",
       "      <td>...</td>\n",
       "    </tr>\n",
       "    <tr>\n",
       "      <th>5476246</th>\n",
       "      <td>962177</td>\n",
       "      <td>208</td>\n",
       "      <td>76.0</td>\n",
       "      <td>2021-08-13</td>\n",
       "    </tr>\n",
       "    <tr>\n",
       "      <th>5476247</th>\n",
       "      <td>224686</td>\n",
       "      <td>2690</td>\n",
       "      <td>2308.0</td>\n",
       "      <td>2021-04-13</td>\n",
       "    </tr>\n",
       "    <tr>\n",
       "      <th>5476248</th>\n",
       "      <td>962178</td>\n",
       "      <td>21</td>\n",
       "      <td>18307.0</td>\n",
       "      <td>2021-08-20</td>\n",
       "    </tr>\n",
       "    <tr>\n",
       "      <th>5476249</th>\n",
       "      <td>7934</td>\n",
       "      <td>1725</td>\n",
       "      <td>6203.0</td>\n",
       "      <td>2021-04-19</td>\n",
       "    </tr>\n",
       "    <tr>\n",
       "      <th>5476250</th>\n",
       "      <td>631989</td>\n",
       "      <td>157</td>\n",
       "      <td>3921.0</td>\n",
       "      <td>2021-08-15</td>\n",
       "    </tr>\n",
       "  </tbody>\n",
       "</table>\n",
       "<p>5476251 rows × 4 columns</p>\n",
       "</div>"
      ],
      "text/plain": [
       "         user_id  item_id   weight   datetime\n",
       "0              0        0   4250.0 2021-05-11\n",
       "1              1        1   8317.0 2021-05-29\n",
       "2              2        2     10.0 2021-05-09\n",
       "3              3        3  14483.0 2021-07-05\n",
       "4              4        0   6725.0 2021-04-30\n",
       "...          ...      ...      ...        ...\n",
       "5476246   962177      208     76.0 2021-08-13\n",
       "5476247   224686     2690   2308.0 2021-04-13\n",
       "5476248   962178       21  18307.0 2021-08-20\n",
       "5476249     7934     1725   6203.0 2021-04-19\n",
       "5476250   631989      157   3921.0 2021-08-15\n",
       "\n",
       "[5476251 rows x 4 columns]"
      ]
     },
     "execution_count": 15,
     "metadata": {},
     "output_type": "execute_result"
    }
   ],
   "source": [
    "dataset.interactions.df"
   ]
  },
  {
   "cell_type": "code",
   "execution_count": 13,
   "id": "45ee47d4",
   "metadata": {
    "ExecuteTime": {
     "end_time": "2022-12-11T13:49:46.012550Z",
     "start_time": "2022-12-11T13:49:45.685937Z"
    }
   },
   "outputs": [],
   "source": [
    "users_inv_mapping = dict(enumerate(train['user_id'].unique()))\n",
    "users_mapping = {v: k for k, v in users_inv_mapping.items()}\n",
    "\n",
    "\n",
    "items_inv_mapping = dict(enumerate(train['item_id'].unique()))\n",
    "items_mapping = {v: k for k, v in items_inv_mapping.items()}"
   ]
  },
  {
   "cell_type": "code",
   "execution_count": 14,
   "id": "8c9dc88e",
   "metadata": {
    "ExecuteTime": {
     "end_time": "2022-12-11T13:49:47.329214Z",
     "start_time": "2022-12-11T13:49:47.326298Z"
    }
   },
   "outputs": [
    {
     "name": "stdout",
     "output_type": "stream",
     "text": [
      "users_mapping amount: 842129\n",
      "items_mapping amount: 15404\n"
     ]
    }
   ],
   "source": [
    "print(f\"users_mapping amount: {len(users_mapping)}\")\n",
    "print(f\"items_mapping amount: {len(items_mapping)}\")"
   ]
  },
  {
   "cell_type": "markdown",
   "id": "bba083a5",
   "metadata": {},
   "source": [
    "### Получаем разреженную матрицу"
   ]
  },
  {
   "cell_type": "code",
   "execution_count": 15,
   "id": "1d63d3e6",
   "metadata": {
    "ExecuteTime": {
     "end_time": "2022-12-11T13:49:53.388264Z",
     "start_time": "2022-12-11T13:49:49.072006Z"
    }
   },
   "outputs": [],
   "source": [
    "def get_coo_matrix(df, \n",
    "                   user_col='user_id', \n",
    "                   item_col='item_id', \n",
    "                   weight_col=None, \n",
    "                   users_mapping=None, \n",
    "                   items_mapping=None):\n",
    "    if weight_col:\n",
    "        weights = df[weight_col].astype(np.float32)\n",
    "    else:\n",
    "        weights = np.ones(len(df), dtype=np.float32)\n",
    "\n",
    "    interaction_matrix = sp.sparse.coo_matrix((\n",
    "        weights, \n",
    "        (\n",
    "            df[user_col].map(users_mapping.get), \n",
    "            df[item_col].map(items_mapping.get)\n",
    "        )\n",
    "    ))\n",
    "    return interaction_matrix\n",
    "interaction_matrix = get_coo_matrix(train, weight_col='weight',\n",
    "                                    users_mapping=users_mapping, \n",
    "                                    items_mapping=items_mapping)"
   ]
  },
  {
   "cell_type": "markdown",
   "id": "296214a1",
   "metadata": {
    "ExecuteTime": {
     "end_time": "2022-12-09T16:15:24.287699Z",
     "start_time": "2022-12-09T16:15:24.284945Z"
    }
   },
   "source": [
    "### Обучаем ItemKNN"
   ]
  },
  {
   "cell_type": "code",
   "execution_count": 16,
   "id": "90fdf4a1",
   "metadata": {
    "ExecuteTime": {
     "end_time": "2022-12-11T14:19:32.461645Z",
     "start_time": "2022-12-11T13:49:53.390051Z"
    }
   },
   "outputs": [
    {
     "data": {
      "application/vnd.jupyter.widget-view+json": {
       "model_id": "131e2250716841d38cddc69974f379f4",
       "version_major": 2,
       "version_minor": 0
      },
      "text/plain": [
       "  0%|          | 0/842129 [00:00<?, ?it/s]"
      ]
     },
     "metadata": {},
     "output_type": "display_data"
    }
   ],
   "source": [
    "userknn = BM25Recommender(K=50, K1=0.012556305101247701, B=0.05289835164246949, num_threads=2)\n",
    "userknn.fit(interaction_matrix)"
   ]
  },
  {
   "cell_type": "code",
   "execution_count": 17,
   "id": "420ea36c",
   "metadata": {
    "ExecuteTime": {
     "end_time": "2022-12-11T14:22:29.665120Z",
     "start_time": "2022-12-11T14:22:25.707632Z"
    }
   },
   "outputs": [],
   "source": [
    "dill_file = Path().cwd().parent / 'service' / 'models'\n",
    "\n",
    "with open(dill_file / 'userknn_BM25Recommender.dill', 'wb') as f:\n",
    "    dill.dump(userknn, f)"
   ]
  },
  {
   "cell_type": "code",
   "execution_count": 18,
   "id": "ce79cd07",
   "metadata": {
    "ExecuteTime": {
     "end_time": "2022-12-11T14:22:32.075828Z",
     "start_time": "2022-12-11T14:22:30.752159Z"
    }
   },
   "outputs": [],
   "source": [
    "dill_file = Path().cwd().parent / 'service' / 'data'\n",
    "\n",
    "with open(dill_file / 'dataset_userknn_BM25Recommender.dill', 'wb') as f:\n",
    "    dill.dump(dataset, f)"
   ]
  },
  {
   "cell_type": "code",
   "execution_count": null,
   "id": "d33e0319",
   "metadata": {},
   "outputs": [],
   "source": []
  },
  {
   "cell_type": "markdown",
   "id": "f36579eb",
   "metadata": {
    "ExecuteTime": {
     "end_time": "2022-12-09T16:21:12.976397Z",
     "start_time": "2022-12-09T16:21:12.974017Z"
    }
   },
   "source": [
    "## Inference ItemKNN"
   ]
  },
  {
   "cell_type": "markdown",
   "id": "4f67d20c",
   "metadata": {
    "ExecuteTime": {
     "end_time": "2022-12-09T16:23:49.154157Z",
     "start_time": "2022-12-09T16:23:49.151906Z"
    }
   },
   "source": [
    "### Предподготовка для ускорения инференса по одному пользователю"
   ]
  },
  {
   "cell_type": "code",
   "execution_count": null,
   "id": "54b2b86e",
   "metadata": {
    "ExecuteTime": {
     "end_time": "2022-12-11T13:41:46.949539Z",
     "start_time": "2022-12-11T13:41:46.910252Z"
    },
    "scrolled": true
   },
   "outputs": [],
   "source": [
    "dill_file = Path().cwd().parent / 'service' / 'models'\n",
    "\n",
    "with open(dill_file / 'Naked_BM25Recommender.dill', 'rb') as f:\n",
    "    userknn = dill.load(f)"
   ]
  },
  {
   "cell_type": "code",
   "execution_count": 111,
   "id": "835d6111",
   "metadata": {
    "ExecuteTime": {
     "end_time": "2022-12-11T12:51:15.353760Z",
     "start_time": "2022-12-11T12:51:14.445805Z"
    }
   },
   "outputs": [],
   "source": [
    "dill_file = Path().cwd().parent / 'service' / 'data'\n",
    "\n",
    "with open(dill_file / 'dataset_Naked_BM25Recommender.dill', 'rb') as f:\n",
    "    dataset = dill.load(f)"
   ]
  },
  {
   "cell_type": "code",
   "execution_count": 112,
   "id": "87586562",
   "metadata": {
    "ExecuteTime": {
     "end_time": "2022-12-11T12:51:17.629435Z",
     "start_time": "2022-12-11T12:51:17.607138Z"
    }
   },
   "outputs": [],
   "source": [
    "train = dataset.interactions.df"
   ]
  },
  {
   "cell_type": "code",
   "execution_count": 19,
   "id": "b32f7662",
   "metadata": {
    "ExecuteTime": {
     "end_time": "2022-12-11T14:22:38.715445Z",
     "start_time": "2022-12-11T14:22:38.050466Z"
    },
    "run_control": {
     "marked": false
    }
   },
   "outputs": [],
   "source": [
    "user_id = 6064\n",
    "K_RECOS = 10\n",
    "N = 50\n",
    "cnt = Counter(train['item_id'].values)\n",
    "idf = pd.DataFrame.from_dict(cnt, orient='index', columns=['doc_freq']).reset_index()\n",
    "n = train.shape[0]\n",
    "idf['idf'] = idf['doc_freq'].apply(lambda x: np.log((1 + n) / (1 + x) + 1))\n",
    "\n",
    "def generate_implicit_recs_mapper(model, N, users_mapping, users_inv_mapping):\n",
    "    def _recs_mapper(user):\n",
    "        user_id = users_mapping[user]\n",
    "        recs = model.similar_items(user_id, N=N)\n",
    "        return [users_inv_mapping[user] for user, _ in recs], [sim for _, sim in recs]\n",
    "    return _recs_mapper"
   ]
  },
  {
   "cell_type": "code",
   "execution_count": 141,
   "id": "4593fce6",
   "metadata": {
    "ExecuteTime": {
     "end_time": "2022-12-11T13:13:40.460344Z",
     "start_time": "2022-12-11T13:13:39.455528Z"
    }
   },
   "outputs": [],
   "source": [
    "mapper = generate_implicit_recs_mapper(\n",
    "    userknn, \n",
    "    N=N,\n",
    "    users_mapping=users_mapping,\n",
    "    users_inv_mapping=users_inv_mapping\n",
    ")"
   ]
  },
  {
   "cell_type": "code",
   "execution_count": 115,
   "id": "4c4ed51e",
   "metadata": {
    "ExecuteTime": {
     "end_time": "2022-12-11T12:51:45.866132Z",
     "start_time": "2022-12-11T12:51:30.252802Z"
    }
   },
   "outputs": [
    {
     "data": {
      "text/html": [
       "<div>\n",
       "<style scoped>\n",
       "    .dataframe tbody tr th:only-of-type {\n",
       "        vertical-align: middle;\n",
       "    }\n",
       "\n",
       "    .dataframe tbody tr th {\n",
       "        vertical-align: top;\n",
       "    }\n",
       "\n",
       "    .dataframe thead th {\n",
       "        text-align: right;\n",
       "    }\n",
       "</style>\n",
       "<table border=\"1\" class=\"dataframe\">\n",
       "  <thead>\n",
       "    <tr style=\"text-align: right;\">\n",
       "      <th></th>\n",
       "      <th>item_id</th>\n",
       "    </tr>\n",
       "    <tr>\n",
       "      <th>user_id</th>\n",
       "      <th></th>\n",
       "    </tr>\n",
       "  </thead>\n",
       "  <tbody>\n",
       "    <tr>\n",
       "      <th>0</th>\n",
       "      <td>[0, 1346, 518, 2004, 3022, 118, 1248, 2247, 11...</td>\n",
       "    </tr>\n",
       "    <tr>\n",
       "      <th>1</th>\n",
       "      <td>[1, 2337, 395, 906, 1925, 0, 648, 1174, 1495, ...</td>\n",
       "    </tr>\n",
       "    <tr>\n",
       "      <th>2</th>\n",
       "      <td>[2, 147, 310]</td>\n",
       "    </tr>\n",
       "    <tr>\n",
       "      <th>3</th>\n",
       "      <td>[3, 1542, 708, 148, 456, 40, 1515, 388, 125]</td>\n",
       "    </tr>\n",
       "    <tr>\n",
       "      <th>4</th>\n",
       "      <td>[0, 101, 690]</td>\n",
       "    </tr>\n",
       "  </tbody>\n",
       "</table>\n",
       "</div>"
      ],
      "text/plain": [
       "                                                   item_id\n",
       "user_id                                                   \n",
       "0        [0, 1346, 518, 2004, 3022, 118, 1248, 2247, 11...\n",
       "1        [1, 2337, 395, 906, 1925, 0, 648, 1174, 1495, ...\n",
       "2                                            [2, 147, 310]\n",
       "3             [3, 1542, 708, 148, 456, 40, 1515, 388, 125]\n",
       "4                                            [0, 101, 690]"
      ]
     },
     "execution_count": 115,
     "metadata": {},
     "output_type": "execute_result"
    }
   ],
   "source": [
    "watched = train.groupby('user_id').agg({'item_id': list})\n",
    "watched.head()"
   ]
  },
  {
   "cell_type": "code",
   "execution_count": 116,
   "id": "7f354209",
   "metadata": {
    "ExecuteTime": {
     "end_time": "2022-12-11T12:52:09.691244Z",
     "start_time": "2022-12-11T12:52:05.416807Z"
    }
   },
   "outputs": [],
   "source": [
    "wwatched = {k:v['item_id'] for k,v in json.loads(watched.T.to_json()).items()}"
   ]
  },
  {
   "cell_type": "code",
   "execution_count": 144,
   "id": "646f1c67",
   "metadata": {
    "ExecuteTime": {
     "end_time": "2022-12-11T13:14:23.857105Z",
     "start_time": "2022-12-11T13:14:23.838576Z"
    },
    "scrolled": true
   },
   "outputs": [],
   "source": [
    "# user_id = 33\n",
    "def make_reco_fast(user_id, mapper, k_recos):\n",
    "    recss = {}\n",
    "    recss['similar_user_id'], recss['similarity'] = mapper(user_id)\n",
    "    recss['similar_user_id'] = recss['similar_user_id'][1:]\n",
    "    recss['similarity'] = recss['similarity'][1:]\n",
    "\n",
    "    recss['item_id'] = [wwatched.get(f\"{x}\") for x in recss['similar_user_id']]\n",
    "    recs = pd.DataFrame(recss)\n",
    "    recs = recs.explode('item_id')\n",
    "    recs = recs.sort_values(['similarity'], ascending=False)\n",
    "    recs = recs.merge(idf[['index', 'idf']], \n",
    "                        left_on='item_id',\n",
    "                        right_on='index',\n",
    "                        how='left').drop(['index'], axis=1)\n",
    "    recs['rank_idf'] = recs['similarity'] * recs['idf']\n",
    "    recs = recs.sort_values(['rank_idf'], ascending=False)\n",
    "    recs.dropna(inplace=True)\n",
    "    return recs['item_id'].unique()[:k_recos]"
   ]
  },
  {
   "cell_type": "code",
   "execution_count": 137,
   "id": "de931a9c",
   "metadata": {
    "ExecuteTime": {
     "end_time": "2022-12-11T13:00:28.765706Z",
     "start_time": "2022-12-11T13:00:28.747341Z"
    }
   },
   "outputs": [],
   "source": [
    "def make_reco(user_id, mapper, k_recos):\n",
    "    recs = pd.DataFrame({\n",
    "        'user_id': train[train['user_id'] == user_id]['user_id'].unique()\n",
    "    })\n",
    "    recs['similar_user_id'], recs['similarity'] = zip(*recs['user_id'].map(mapper))\n",
    "\n",
    "\n",
    "    # explode lists to get vertical representation\n",
    "    recs = recs.set_index('user_id').apply(pd.Series.explode).reset_index()\n",
    "\n",
    "    # delete recommendations of itself \n",
    "    recs = recs[~(recs['user_id'] == recs['similar_user_id'])]\n",
    "    \n",
    "    # join watched items\n",
    "    recs = recs.merge(watched, left_on=['similar_user_id'], right_on=['user_id'], how='left')\n",
    "    recs = recs.explode('item_id')\n",
    "    # drop duplicates pairs user_id-item_id \n",
    "    # keep with the largest similiarity\n",
    "    recs = recs.sort_values(['user_id', 'similarity'], ascending=False)\n",
    "    recs = recs.merge(idf[['index', 'idf']], \n",
    "                        left_on='item_id',\n",
    "                        right_on='index',\n",
    "                        how='left').drop(['index'], axis=1)\n",
    "    recs['rank_idf'] = recs['similarity'] * recs['idf']\n",
    "    recs = recs.sort_values(['user_id', 'rank_idf'], ascending=False)\n",
    "    recs['rank'] = recs.groupby('user_id').cumcount() + 1 \n",
    "    return recs[recs['rank'] <= k_recos]['item_id'].values"
   ]
  },
  {
   "cell_type": "code",
   "execution_count": 138,
   "id": "652d6bc9",
   "metadata": {
    "ExecuteTime": {
     "end_time": "2022-12-11T13:00:46.467428Z",
     "start_time": "2022-12-11T13:00:46.299368Z"
    }
   },
   "outputs": [
    {
     "data": {
      "text/plain": [
       "array([8057, 8121, 9147, 7680, 8148, 3296, 718, 3866, 467, 2098],\n",
       "      dtype=object)"
      ]
     },
     "execution_count": 138,
     "metadata": {},
     "output_type": "execute_result"
    }
   ],
   "source": [
    "user_id = 100\n",
    "make_reco(user_id, mapper, K_RECOS)"
   ]
  },
  {
   "cell_type": "code",
   "execution_count": 145,
   "id": "00c58aea",
   "metadata": {
    "ExecuteTime": {
     "end_time": "2022-12-11T13:14:42.134880Z",
     "start_time": "2022-12-11T13:14:42.094093Z"
    }
   },
   "outputs": [
    {
     "data": {
      "text/plain": [
       "array([12321, 9728, 10256, 11241, 13336, 7496, 3910, 2452, 6103, 3190],\n",
       "      dtype=object)"
      ]
     },
     "execution_count": 145,
     "metadata": {},
     "output_type": "execute_result"
    }
   ],
   "source": [
    "make_reco_fast(user_id, mapper, K_RECOS)"
   ]
  },
  {
   "cell_type": "markdown",
   "id": "e9ac9a9a",
   "metadata": {
    "ExecuteTime": {
     "end_time": "2022-12-09T16:28:07.075584Z",
     "start_time": "2022-12-09T16:28:07.072936Z"
    }
   },
   "source": [
    "## Подсчет метрик"
   ]
  },
  {
   "cell_type": "code",
   "execution_count": null,
   "id": "0cb87fe6",
   "metadata": {},
   "outputs": [],
   "source": [
    "# calculate several classic (precision@k and recall@k) and \"beyond accuracy\" metrics\n",
    "metrics = {\n",
    "    \"prec@10\": Precision(k=10),\n",
    "    \"recall@10\": Recall(k=10),\n",
    "    \"novelty\": MeanInvUserFreq(k=10),\n",
    "    \"serendipity\": Serendipity(k=10),\n",
    "}\n",
    "\n",
    "catalog = train['item_id'].unique()\n",
    "    \n",
    "metric_values = calc_metrics(\n",
    "            metrics,\n",
    "            reco=recs,\n",
    "            interactions=test,\n",
    "            prev_interactions=train,\n",
    "            catalog=catalog\n",
    "        )\n"
   ]
  }
 ],
 "metadata": {
  "kernelspec": {
   "display_name": "Python 3 (ipykernel)",
   "language": "python",
   "name": "python3"
  },
  "language_info": {
   "codemirror_mode": {
    "name": "ipython",
    "version": 3
   },
   "file_extension": ".py",
   "mimetype": "text/x-python",
   "name": "python",
   "nbconvert_exporter": "python",
   "pygments_lexer": "ipython3",
   "version": "3.8.10"
  },
  "toc": {
   "base_numbering": 1,
   "nav_menu": {},
   "number_sections": true,
   "sideBar": true,
   "skip_h1_title": true,
   "title_cell": "Table of Contents",
   "title_sidebar": "Contents",
   "toc_cell": false,
   "toc_position": {
    "height": "calc(100% - 180px)",
    "left": "10px",
    "top": "150px",
    "width": "391.714px"
   },
   "toc_section_display": true,
   "toc_window_display": true
  }
 },
 "nbformat": 4,
 "nbformat_minor": 5
}
